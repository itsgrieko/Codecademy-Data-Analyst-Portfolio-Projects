{
 "cells": [
  {
   "cell_type": "markdown",
   "metadata": {},
   "source": [
    "# U.S. Medical Insurance Costs"
   ]
  },
  {
   "cell_type": "markdown",
   "metadata": {},
   "source": [
    "## Goals:\n",
    "- Find the average cost between males and females --> subgrouping of smokers vs non-smokers\n",
    "- Average age of someone with 1 child, 2 children, or 3+"
   ]
  },
  {
   "cell_type": "code",
   "execution_count": 23,
   "metadata": {},
   "outputs": [],
   "source": [
    "# Initial import and storing data into a reiterable list\n",
    "import csv\n",
    "\n",
    "with open('insurance.csv', newline = '') as f:\n",
    "    data_dict = csv.DictReader(f)\n",
    "    data = []\n",
    "    for row in data_dict:\n",
    "        data.append(row)"
   ]
  },
  {
   "cell_type": "markdown",
   "metadata": {},
   "source": [
    "Since we're interested in averages often, let's write a method to determine averages quickly for us!"
   ]
  },
  {
   "cell_type": "code",
   "execution_count": 24,
   "metadata": {},
   "outputs": [],
   "source": [
    "def find_avg(target, list_of_data, target_key, target_val):\n",
    "    total = 0\n",
    "    count = 0\n",
    "    \n",
    "    for entry in list_of_data:\n",
    "        if entry[target_key] == target:\n",
    "            total += float(entry[target_val])\n",
    "            count += 1\n",
    "            \n",
    "    return total / count"
   ]
  },
  {
   "cell_type": "code",
   "execution_count": 31,
   "metadata": {},
   "outputs": [
    {
     "name": "stdout",
     "output_type": "stream",
     "text": [
      "13956.751177721886\n",
      "12569.57884383534\n"
     ]
    }
   ],
   "source": [
    "male_average = find_avg('male', data, 'sex', 'charges')\n",
    "print(male_average)\n",
    "\n",
    "female_average = find_avg('female', data, 'sex', 'charges')  \n",
    "print(female_average)"
   ]
  },
  {
   "cell_type": "markdown",
   "metadata": {},
   "source": [
    "|Sex | Average cost|\n",
    "|---|---|\n",
    "|Males | \\$13,956.75|\n",
    "|Females | \\$12,569.58|"
   ]
  },
  {
   "cell_type": "markdown",
   "metadata": {},
   "source": [
    "Next we'll find the average age of someone with no children, 1 child, 2 children, or 3 children"
   ]
  },
  {
   "cell_type": "code",
   "execution_count": 34,
   "metadata": {},
   "outputs": [
    {
     "name": "stdout",
     "output_type": "stream",
     "text": [
      "38.444250871080136\n",
      "39.4537037037037\n",
      "39.44583333333333\n",
      "41.56687898089172\n"
     ]
    }
   ],
   "source": [
    "print(find_avg('0', data, 'children', 'age'))\n",
    "print(find_avg('1', data, 'children', 'age'))\n",
    "print(find_avg('2', data, 'children', 'age'))\n",
    "print(find_avg('3', data, 'children', 'age'))"
   ]
  },
  {
   "cell_type": "markdown",
   "metadata": {},
   "source": [
    "|Children | Average Age|\n",
    "|---|---|\n",
    "|0| 38.4|\n",
    "|1| 39.5|\n",
    "|2| 39.4|\n",
    "|3+| 41.6|"
   ]
  }
 ],
 "metadata": {
  "kernelspec": {
   "display_name": "Python 3",
   "language": "python",
   "name": "python3"
  },
  "language_info": {
   "codemirror_mode": {
    "name": "ipython",
    "version": 3
   },
   "file_extension": ".py",
   "mimetype": "text/x-python",
   "name": "python",
   "nbconvert_exporter": "python",
   "pygments_lexer": "ipython3",
   "version": "3.8.8"
  }
 },
 "nbformat": 4,
 "nbformat_minor": 4
}
